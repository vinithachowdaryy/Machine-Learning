{
  "nbformat": 4,
  "nbformat_minor": 0,
  "metadata": {
    "colab": {
      "provenance": [],
      "authorship_tag": "ABX9TyMe3roBqsskG47D2zCzX36C",
      "include_colab_link": true
    },
    "kernelspec": {
      "name": "python3",
      "display_name": "Python 3"
    },
    "language_info": {
      "name": "python"
    }
  },
  "cells": [
    {
      "cell_type": "markdown",
      "metadata": {
        "id": "view-in-github",
        "colab_type": "text"
      },
      "source": [
        "<a href=\"https://colab.research.google.com/github/vinithachowdaryy/Machine-Learning/blob/main/ml_lab02.ipynb\" target=\"_parent\"><img src=\"https://colab.research.google.com/assets/colab-badge.svg\" alt=\"Open In Colab\"/></a>"
      ]
    },
    {
      "cell_type": "code",
      "execution_count": 14,
      "metadata": {
        "colab": {
          "base_uri": "https://localhost:8080/"
        },
        "id": "1jprAEFM5cke",
        "outputId": "506ed4ea-21ad-49c2-a7b9-05931e743c89"
      },
      "outputs": [
        {
          "output_type": "stream",
          "name": "stdout",
          "text": [
            "Enter the dimensions of the points:2\n",
            "p1[0]1\n",
            "p1[1]2\n",
            "[1, 2]\n",
            "p2[0]6\n",
            "p2[1]7\n",
            "[6, 7]\n",
            "Manhattan distance= 10\n",
            "Euclidean distance= 7.0710678118654755\n"
          ]
        }
      ],
      "source": [
        "import math\n",
        "n=int(input(\"Enter the dimensions of the points:\"))\n",
        "p1=[]\n",
        "for i in range(0,n):\n",
        "  value=int(input(f\"p1[{i}]\"))\n",
        "  p1.append(value)\n",
        "print(p1)\n",
        "p2=[]\n",
        "for i in range(0,n):\n",
        "  value=int(input(f\"p2[{i}]\"))\n",
        "  p2.append(value)\n",
        "print(p2)\n",
        "\n",
        "# manhattan distance\n",
        "def manhattan(p1,p2):\n",
        "    sum=0\n",
        "    for i in range(0,n):\n",
        "      x=abs(p1[i]-p2[i])\n",
        "      sum=sum+x\n",
        "    return sum\n",
        "\n",
        "#euclidean distance\n",
        "def euclidean(p1,p2):\n",
        "    sum=0\n",
        "    for i in range(0,n):\n",
        "      x=pow((p1[i]-p2[i]),2)\n",
        "      sum=sum+x\n",
        "    euclidean_distance=math.sqrt(sum)\n",
        "    return euclidean_distance\n",
        "print(\"Manhattan distance=\",manhattan(p1,p2))\n",
        "print(\"Euclidean distance=\",euclidean(p1,p2) )\n",
        "\n"
      ]
    },
    {
      "cell_type": "code",
      "source": [
        "https://raw.githubusercontent.com/jbrownlee/Datasets/master/iris.csv"
      ],
      "metadata": {
        "id": "V97INkvpHLSL"
      },
      "execution_count": null,
      "outputs": []
    },
    {
      "cell_type": "code",
      "source": [
        "n = int(input(\"Enter the number of categories: \"))\n",
        "blood_groups = []\n",
        "for i in range(n):\n",
        "    value = input(f\"Enter the blood group category {i+1}: \")\n",
        "    blood_groups.append(value)\n",
        "\n",
        "# Simple label encoding\n",
        "label_encoding = {}\n",
        "encoded_blood_groups = []\n",
        "\n",
        "for bg in blood_groups:\n",
        "    if bg not in label_encoding:\n",
        "        # Assign a new integer to the unseen blood group\n",
        "        label_encoding[bg] = len(label_encoding)\n",
        "    encoded_blood_groups.append(label_encoding[bg])\n",
        "\n",
        "print(\"Encoded Blood Groups:\", encoded_blood_groups)\n",
        "print(\"Label Encoding Mapping:\", label_encoding)\n"
      ],
      "metadata": {
        "id": "vrTPwRsJPNr0"
      },
      "execution_count": null,
      "outputs": []
    },
    {
      "cell_type": "code",
      "source": [
        "def one_hot_encode(categories):\n",
        "    \"\"\"\n",
        "    One-hot encodes a list of categories.\n",
        "\n",
        "    Parameters:\n",
        "    - categories (list): A list of category values.\n",
        "\n",
        "    Returns:\n",
        "    - list of dicts: A list where each element is a dictionary representing the one-hot encoded features of a category.\n",
        "    \"\"\"\n",
        "    # Find unique categories\n",
        "    unique_categories = list(set(categories))\n",
        "\n",
        "    # Initialize the list for one-hot encoded categories\n",
        "    one_hot_encoded = []\n",
        "\n",
        "    for category in categories:\n",
        "        # Create a dictionary for each category with all zeros\n",
        "        category_encoding = {cat: 0 for cat in unique_categories}\n",
        "        # Set the current category to 1\n",
        "        category_encoding[category] = 1\n",
        "        one_hot_encoded.append(category_encoding)\n",
        "\n",
        "    return one_hot_encoded\n",
        "\n",
        "# Example usage\n",
        "categories = ['A', 'B', 'AB', 'O', 'O', 'A']  # Example list of blood group categories\n",
        "one_hot_encoded_categories = one_hot_encode(categories)\n",
        "\n",
        "print(\"One-hot encoded categories:\")\n",
        "for encoded_category in one_hot_encoded_categories:\n",
        "    print(encoded_category)\n"
      ],
      "metadata": {
        "id": "K87Z0VZXVqMh"
      },
      "execution_count": null,
      "outputs": []
    }
  ]
}