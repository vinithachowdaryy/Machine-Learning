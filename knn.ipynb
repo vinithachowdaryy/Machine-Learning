{
 "cells": [
  {
   "cell_type": "code",
   "execution_count": 24,
   "metadata": {},
   "outputs": [
    {
     "data": {
      "text/html": [
       "<div>\n",
       "<style scoped>\n",
       "    .dataframe tbody tr th:only-of-type {\n",
       "        vertical-align: middle;\n",
       "    }\n",
       "\n",
       "    .dataframe tbody tr th {\n",
       "        vertical-align: top;\n",
       "    }\n",
       "\n",
       "    .dataframe thead th {\n",
       "        text-align: right;\n",
       "    }\n",
       "</style>\n",
       "<table border=\"1\" class=\"dataframe\">\n",
       "  <thead>\n",
       "    <tr style=\"text-align: right;\">\n",
       "      <th></th>\n",
       "      <th>Candies (#)</th>\n",
       "      <th>Mangoes (Kg)</th>\n",
       "      <th>Milk Packets (#)</th>\n",
       "      <th>Payment (Rs)</th>\n",
       "    </tr>\n",
       "  </thead>\n",
       "  <tbody>\n",
       "    <tr>\n",
       "      <th>0</th>\n",
       "      <td>20</td>\n",
       "      <td>6</td>\n",
       "      <td>2</td>\n",
       "      <td>386</td>\n",
       "    </tr>\n",
       "    <tr>\n",
       "      <th>1</th>\n",
       "      <td>16</td>\n",
       "      <td>3</td>\n",
       "      <td>6</td>\n",
       "      <td>289</td>\n",
       "    </tr>\n",
       "    <tr>\n",
       "      <th>2</th>\n",
       "      <td>27</td>\n",
       "      <td>6</td>\n",
       "      <td>2</td>\n",
       "      <td>393</td>\n",
       "    </tr>\n",
       "    <tr>\n",
       "      <th>3</th>\n",
       "      <td>19</td>\n",
       "      <td>1</td>\n",
       "      <td>2</td>\n",
       "      <td>110</td>\n",
       "    </tr>\n",
       "    <tr>\n",
       "      <th>4</th>\n",
       "      <td>24</td>\n",
       "      <td>4</td>\n",
       "      <td>2</td>\n",
       "      <td>280</td>\n",
       "    </tr>\n",
       "    <tr>\n",
       "      <th>5</th>\n",
       "      <td>22</td>\n",
       "      <td>1</td>\n",
       "      <td>5</td>\n",
       "      <td>167</td>\n",
       "    </tr>\n",
       "    <tr>\n",
       "      <th>6</th>\n",
       "      <td>15</td>\n",
       "      <td>4</td>\n",
       "      <td>2</td>\n",
       "      <td>271</td>\n",
       "    </tr>\n",
       "    <tr>\n",
       "      <th>7</th>\n",
       "      <td>18</td>\n",
       "      <td>4</td>\n",
       "      <td>2</td>\n",
       "      <td>274</td>\n",
       "    </tr>\n",
       "    <tr>\n",
       "      <th>8</th>\n",
       "      <td>21</td>\n",
       "      <td>1</td>\n",
       "      <td>4</td>\n",
       "      <td>148</td>\n",
       "    </tr>\n",
       "    <tr>\n",
       "      <th>9</th>\n",
       "      <td>16</td>\n",
       "      <td>2</td>\n",
       "      <td>4</td>\n",
       "      <td>198</td>\n",
       "    </tr>\n",
       "  </tbody>\n",
       "</table>\n",
       "</div>"
      ],
      "text/plain": [
       "   Candies (#)  Mangoes (Kg)  Milk Packets (#)  Payment (Rs)\n",
       "0           20             6                 2           386\n",
       "1           16             3                 6           289\n",
       "2           27             6                 2           393\n",
       "3           19             1                 2           110\n",
       "4           24             4                 2           280\n",
       "5           22             1                 5           167\n",
       "6           15             4                 2           271\n",
       "7           18             4                 2           274\n",
       "8           21             1                 4           148\n",
       "9           16             2                 4           198"
      ]
     },
     "execution_count": 24,
     "metadata": {},
     "output_type": "execute_result"
    }
   ],
   "source": [
    "import pandas as pd\n",
    "import numpy as np\n",
    "df=pd.read_excel(r\"E:\\College\\SEMESTER 4\\MACHINE LEARNING\\Lab Session1 Data.xlsx\",  sheet_name=\"Purchase data\", usecols = 'B:E')\n",
    "df\n"
   ]
  },
  {
   "cell_type": "code",
   "execution_count": 25,
   "metadata": {},
   "outputs": [
    {
     "name": "stdout",
     "output_type": "stream",
     "text": [
      "   Candies (#)  Mangoes (Kg)  Milk Packets (#)\n",
      "0           20             6                 2\n",
      "1           16             3                 6\n",
      "2           27             6                 2\n",
      "3           19             1                 2\n",
      "4           24             4                 2\n",
      "5           22             1                 5\n",
      "6           15             4                 2\n",
      "7           18             4                 2\n",
      "8           21             1                 4\n",
      "9           16             2                 4\n",
      "0    386\n",
      "1    289\n",
      "2    393\n",
      "3    110\n",
      "4    280\n",
      "5    167\n",
      "6    271\n",
      "7    274\n",
      "8    148\n",
      "9    198\n",
      "Name: Payment (Rs), dtype: int64\n"
     ]
    }
   ],
   "source": [
    "A = df[['Candies (#)', 'Mangoes (Kg)','Milk Packets (#)']]\n",
    "C = df['Payment (Rs)']\n",
    "print(A)\n",
    "print(C)"
   ]
  },
  {
   "cell_type": "code",
   "execution_count": 36,
   "metadata": {},
   "outputs": [
    {
     "name": "stdout",
     "output_type": "stream",
     "text": [
      "dimention of the given dataset: 4\n",
      "Number of vectors in the given dataset: 10\n",
      "Rank of matrix A: 3\n",
      "[ 1. 55. 18.]\n"
     ]
    }
   ],
   "source": [
    "dimension=df.shape[1]\n",
    "print(\"dimention of the given dataset:\",dimension)\n",
    "vectors=df.shape[0]\n",
    "print(\"Number of vectors in the given dataset:\",vectors)\n",
    "rank=np.linalg.matrix_rank(A)\n",
    "print(\"Rank of matrix A:\",rank)\n",
    "A_1=np.linalg.pinv(A)\n",
    "X=A_1@C\n",
    "# print(A_1)\n",
    "print(X)"
   ]
  },
  {
   "cell_type": "code",
   "execution_count": 37,
   "metadata": {},
   "outputs": [
    {
     "name": "stdout",
     "output_type": "stream",
     "text": [
      "[ 1. 55. 18.]\n"
     ]
    }
   ],
   "source": [
    "A_1=np.linalg.pinv(A)\n",
    "X=A_1@C\n",
    "# print(A_1)\n",
    "print(X)"
   ]
  },
  {
   "cell_type": "code",
   "execution_count": null,
   "metadata": {},
   "outputs": [],
   "source": []
  },
  {
   "cell_type": "code",
   "execution_count": 44,
   "metadata": {},
   "outputs": [
    {
     "name": "stdout",
     "output_type": "stream",
     "text": [
      "   Candies (#)  Mangoes (Kg)  Milk Packets (#)  Payment (Rs) Category\n",
      "0           20             6                 2           386     Rich\n",
      "1           16             3                 6           289     Rich\n",
      "2           27             6                 2           393     Rich\n",
      "3           19             1                 2           110     Poor\n",
      "4           24             4                 2           280     Rich\n",
      "5           22             1                 5           167     Poor\n",
      "6           15             4                 2           271     Rich\n",
      "7           18             4                 2           274     Rich\n",
      "8           21             1                 4           148     Poor\n",
      "9           16             2                 4           198     Poor\n"
     ]
    }
   ],
   "source": [
    "import pandas as pd\n",
    "def categorize_customer(payment):\n",
    "    if payment >= 200:\n",
    "        return \"Rich\"\n",
    "    else:\n",
    "        return \"Poor\"\n",
    "payment_column = df.iloc[:, 3] \n",
    "df['Category'] = payment_column.apply(categorize_customer)\n",
    "\n",
    "print(df)"
   ]
  }
 ],
 "metadata": {
  "kernelspec": {
   "display_name": "Python 3",
   "language": "python",
   "name": "python3"
  },
  "language_info": {
   "codemirror_mode": {
    "name": "ipython",
    "version": 3
   },
   "file_extension": ".py",
   "mimetype": "text/x-python",
   "name": "python",
   "nbconvert_exporter": "python",
   "pygments_lexer": "ipython3",
   "version": "3.10.11"
  }
 },
 "nbformat": 4,
 "nbformat_minor": 2
}
