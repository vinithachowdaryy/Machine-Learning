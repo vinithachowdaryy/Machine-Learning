{
  "cells": [
    {
      "cell_type": "code",
      "execution_count": 1,
      "metadata": {
        "colab": {
          "base_uri": "https://localhost:8080/"
        },
        "id": "6VLgYvki6swW",
        "outputId": "7ca24f0c-7676-443d-f3a9-7cee1227562e"
      },
      "outputs": [
        {
          "name": "stdout",
          "output_type": "stream",
          "text": [
            "vowels= 3\n",
            "consonets= 2\n"
          ]
        }
      ],
      "source": [
        "def count_vowels_consonents(s1):\n",
        "    vowels=0\n",
        "    consonents=0\n",
        "    s2=s1.lower()#converting to lower case\n",
        "    for char in s2:\n",
        "      #checking if the character is vowel or consonents\n",
        "      if(char=='a' or char=='e' or char=='i' or char=='o' or char=='u'):\n",
        "        vowels=vowels+1\n",
        "      else:\n",
        "        consonents=consonents+1\n",
        "    #storing the results in a list    \n",
        "    l1=[vowels,consonents]\n",
        "    return l1\n",
        "s1=input(\"enter string:\")\n",
        "# calling the function\n",
        "print(\"vowels=\",count_vowels_consonents(s1)[0])\n",
        "print(\"consonets=\",count_vowels_consonents(s1)[1])\n",
        "\n",
        "\n",
        "\n"
      ]
    },
    {
      "cell_type": "code",
      "execution_count": null,
      "metadata": {
        "colab": {
          "base_uri": "https://localhost:8080/"
        },
        "id": "knla1rlZ-Vyr",
        "outputId": "40b04b7b-71b0-46da-c71d-013f533b2157"
      },
      "outputs": [
        {
          "ename": "SyntaxError",
          "evalue": "invalid syntax. Perhaps you forgot a comma? (1257022566.py, line 37)",
          "output_type": "error",
          "traceback": [
            "\u001b[1;36m  Cell \u001b[1;32mIn[2], line 37\u001b[1;36m\u001b[0m\n\u001b[1;33m    print(\"product of A and B=\"multiply(A,B))\u001b[0m\n\u001b[1;37m          ^\u001b[0m\n\u001b[1;31mSyntaxError\u001b[0m\u001b[1;31m:\u001b[0m invalid syntax. Perhaps you forgot a comma?\n"
          ]
        }
      ],
      "source": [
        "def multiply(A,B):\n",
        "  #initializes the result marix with all zeros, m= number of rows, q= number of columns\n",
        "  result = [[0 for a in range(q)] for a in range(m)]\n",
        "  if (n!=p):#number of columns should be equal to the number of rows for multiplication\n",
        "    print(\"matrices are not multipliable\")\n",
        "  else:\n",
        "    for i in range(m):\n",
        "      for j in range(q):\n",
        "        for k in range(n):\n",
        "              result[i][j] += A[i][k] * B[k][j]\n",
        "    return result\n",
        "m=int(input(\"enter the number of rows in matrix A\"))\n",
        "n=int(input(\"enter the number of columns in matrix A\"))\n",
        "p=int(input(\"enter the number of rows in matrix B\"))\n",
        "q=int(input(\"enter the number of columns in matrix B\"))\n",
        "\n",
        "#taking inputs of the elements of matrix A\n",
        "A=[]\n",
        "for i in range(0,m):\n",
        "  row=[]\n",
        "  for j in range(0,n):\n",
        "    element=int(input(f\"Enter the element at [{i}][{j}]: \"))\n",
        "    row.append(element)\n",
        "  A.append(row)\n",
        "print(A)\n",
        "\n",
        "#taking inputs of the elements of matrix B\n",
        "B=[]\n",
        "for i in range(0,p):\n",
        "  row=[]\n",
        "  for j in range(0,q):\n",
        "    element=int(input(f\"Enter the element at [{i}][{j}]: \"))\n",
        "    row.append(element)\n",
        "  B.append(row)\n",
        "print(B)\n",
        "\n",
        "print(\"product of A and B=\",multiply(A,B))\n",
        "\n",
        "\n"
      ]
    },
    {
      "cell_type": "code",
      "execution_count": null,
      "metadata": {
        "colab": {
          "base_uri": "https://localhost:8080/"
        },
        "id": "T4Oz1mYpGJUz",
        "outputId": "c5a58b1f-44b5-4349-efac-abc245bacefe"
      },
      "outputs": [
        {
          "name": "stdout",
          "output_type": "stream",
          "text": [
            "enter the elements of the list1 seperated with commas1,2,3,4\n",
            "enter the elements of the list2 seperated with commas 1,2,3,4\n",
            "number of common elements= 4\n"
          ]
        }
      ],
      "source": [
        "\n",
        "l1=input(\"enter the elements of the list1 seperated with commas\")#accepting the elements of the list\n",
        "l2=input(\"enter the elements of the list2 seperated with commas \")\n",
        "list1=l1.split(\",\") #seperating the elements in the list using split\n",
        "list2=l2.split(\",\")\n",
        "li1 = [int(num) for num in list1]\n",
        "li2=[int(num) for num in list2]#iteriating over the elements in the list\n",
        "def common_elements(l1,l2):\n",
        "#counting the commom elements\n",
        "    count=0\n",
        "    for i in li1:\n",
        "      for j in li2:\n",
        "        if(i==j):\n",
        "          count=count+1\n",
        "    return count\n",
        "print(\"number of common elements=\",common_elements(li1,li2))\n",
        "\n",
        "\n",
        "\n",
        "\n"
      ]
    },
    {
      "cell_type": "code",
      "execution_count": null,
      "metadata": {
        "colab": {
          "base_uri": "https://localhost:8080/"
        },
        "id": "1fIu45wzKuSx",
        "outputId": "c1eeff66-2a75-4a79-f1c0-d789e22b121a"
      },
      "outputs": [
        {
          "name": "stdout",
          "output_type": "stream",
          "text": [
            "enter the number of rows in matrix A2\n",
            "enter the number of columns in matrix A3\n",
            "Enter the element at [0][0]: 1\n",
            "Enter the element at [0][1]: 2\n",
            "Enter the element at [0][2]: 3\n",
            "Enter the element at [1][0]: 4\n",
            "Enter the element at [1][1]: 5\n",
            "Enter the element at [1][2]: 6\n",
            "[[1, 2, 3], [4, 5, 6]]\n",
            "transpose of matrix= [[1, 4], [2, 5], [3, 6]]\n"
          ]
        }
      ],
      "source": [
        "#taking the dimenstions of the matrix as input\n",
        "m=int(input(\"enter the number of rows in matrix A\"))#rows\n",
        "n=int(input(\"enter the number of columns in matrix A\"))#columns\n",
        "A=[]\n",
        "#accepting the elements of the matrix \n",
        "for i in range(0,m):\n",
        "  row=[]\n",
        "  for j in range(0,n):\n",
        "    element=int(input(f\"Enter the element at [{i}][{j}]: \"))\n",
        "    row.append(element)\n",
        "  A.append(row)\n",
        "print(A)\n",
        "\n",
        "def transpose(A):\n",
        "  transpose = []\n",
        "  for j in range(n):\n",
        "      row = []\n",
        "      for i in range(m):\n",
        "          row.append(A[i][j])\n",
        "      transpose.append(row)\n",
        "  return transpose\n",
        "\n",
        "print(\"transpose of matrix=\",transpose(A))\n",
        "\n",
        "\n"
      ]
    }
  ],
  "metadata": {
    "colab": {
      "provenance": []
    },
    "kernelspec": {
      "display_name": "Python 3",
      "name": "python3"
    },
    "language_info": {
      "codemirror_mode": {
        "name": "ipython",
        "version": 3
      },
      "file_extension": ".py",
      "mimetype": "text/x-python",
      "name": "python",
      "nbconvert_exporter": "python",
      "pygments_lexer": "ipython3",
      "version": "3.10.11"
    }
  },
  "nbformat": 4,
  "nbformat_minor": 0
}
