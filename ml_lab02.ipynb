{
  "nbformat": 4,
  "nbformat_minor": 0,
  "metadata": {
    "colab": {
      "provenance": [],
      "authorship_tag": "ABX9TyMaWVF/4UDkz7NvVYHzXLT/",
      "include_colab_link": true
    },
    "kernelspec": {
      "name": "python3",
      "display_name": "Python 3"
    },
    "language_info": {
      "name": "python"
    }
  },
  "cells": [
    {
      "cell_type": "markdown",
      "metadata": {
        "id": "view-in-github",
        "colab_type": "text"
      },
      "source": [
        "<a href=\"https://colab.research.google.com/github/vinithachowdaryy/Machine-Learning/blob/main/ml_lab02.ipynb\" target=\"_parent\"><img src=\"https://colab.research.google.com/assets/colab-badge.svg\" alt=\"Open In Colab\"/></a>"
      ]
    },
    {
      "cell_type": "code",
      "execution_count": null,
      "metadata": {
        "colab": {
          "base_uri": "https://localhost:8080/"
        },
        "id": "1jprAEFM5cke",
        "outputId": "506ed4ea-21ad-49c2-a7b9-05931e743c89"
      },
      "outputs": [
        {
          "output_type": "stream",
          "name": "stdout",
          "text": [
            "Enter the dimensions of the points:2\n",
            "p1[0]1\n",
            "p1[1]2\n",
            "[1, 2]\n",
            "p2[0]6\n",
            "p2[1]7\n",
            "[6, 7]\n",
            "Manhattan distance= 10\n",
            "Euclidean distance= 7.0710678118654755\n"
          ]
        }
      ],
      "source": [
        "import math\n",
        "n=int(input(\"Enter the dimensions of the points:\"))\n",
        "p1=[]\n",
        "for i in range(0,n):\n",
        "  value=int(input(f\"p1[{i}]\"))\n",
        "  p1.append(value)\n",
        "print(p1)\n",
        "p2=[]\n",
        "for i in range(0,n):\n",
        "  value=int(input(f\"p2[{i}]\"))\n",
        "  p2.append(value)\n",
        "print(p2)\n",
        "\n",
        "# manhattan distance\n",
        "def manhattan(p1,p2):\n",
        "    sum=0\n",
        "    for i in range(0,n):\n",
        "      x=abs(p1[i]-p2[i])\n",
        "      sum=sum+x\n",
        "    return sum\n",
        "\n",
        "#euclidean distance\n",
        "def euclidean(p1,p2):\n",
        "    sum=0\n",
        "    for i in range(0,n):\n",
        "      x=pow((p1[i]-p2[i]),2)\n",
        "      sum=sum+x\n",
        "    euclidean_distance=math.sqrt(sum)\n",
        "    return euclidean_distance\n",
        "print(\"Manhattan distance=\",manhattan(p1,p2))\n",
        "print(\"Euclidean distance=\",euclidean(p1,p2) )\n",
        "\n"
      ]
    },
    {
      "cell_type": "code",
      "source": [
        "import math\n",
        "\n",
        "# Euclidean distance\n",
        "def euclidean_distance(p1, p2):\n",
        "    sum_sq = sum(pow(a-b, 2) for a, b in zip(p1, p2))\n",
        "    return math.sqrt(sum_sq)\n",
        "\n",
        "def k_nearest_neighbors(train_data, test_point, k):\n",
        "    distances = []\n",
        "    # Ensure test_point is in the correct format for distance calculation\n",
        "    test_point_formatted = test_point[:2]  # Exclude the class label if present\n",
        "    for data_point in train_data:\n",
        "        # Format the train data point to exclude the class label\n",
        "        data_point_formatted = data_point[:2]\n",
        "        distance = euclidean_distance(data_point_formatted, test_point_formatted)\n",
        "        distances.append((distance, data_point[2]))\n",
        "    distances.sort()\n",
        "    neighbors = distances[:k]\n",
        "\n",
        "    class_votes = {}\n",
        "    for _, class_label in neighbors:\n",
        "        if class_label in class_votes:\n",
        "            class_votes[class_label] += 1\n",
        "        else:\n",
        "            class_votes[class_label] = 1\n",
        "\n",
        "    sorted_votes = sorted(class_votes.items(), key=lambda x: x[1], reverse=True)\n",
        "    return sorted_votes[0][0]\n",
        "\n",
        "train_data = [(-1, -1, 'A'), (1, 1, 'B'), (-1, 1, 'A'), (1, -1, 'B')]\n",
        "test_point = (0, 0)\n",
        "\n",
        "predicted_class = k_nearest_neighbors(train_data, test_point + (None,), 3)\n",
        "print(\"Predicted class:\", predicted_class)\n"
      ],
      "metadata": {
        "colab": {
          "base_uri": "https://localhost:8080/"
        },
        "id": "zNKQkn_EJ_ox",
        "outputId": "4f0e17c8-66ca-4d43-b81a-d596a7d8dab3"
      },
      "execution_count": 9,
      "outputs": [
        {
          "output_type": "stream",
          "name": "stdout",
          "text": [
            "Predicted class: B\n"
          ]
        }
      ]
    },
    {
      "cell_type": "code",
      "source": [
        "n = int(input(\"Enter the number of categories: \"))\n",
        "blood_groups = []\n",
        "for i in range(n):\n",
        "    value = input(f\"Enter the blood group category {i+1}: \")\n",
        "    blood_groups.append(value)\n",
        "\n",
        "def label_encoding(blood_groups):\n",
        "    label_encoding = {}\n",
        "    encoded_blood_groups = []\n",
        "\n",
        "    for bg in blood_groups:\n",
        "        if bg not in label_encoding:\n",
        "            label_encoding[bg] = len(label_encoding)\n",
        "        encoded_blood_groups.append(label_encoding[bg])\n",
        "    return encoded_blood_groups,label_encoding\n",
        "\n",
        "print(\"Encoded Blood Groups:\", label_encoding(blood_groups)[0])\n",
        "print(\"Label Encoding Mapping:\", label_encoding(blood_groups)[1])\n"
      ],
      "metadata": {
        "id": "vrTPwRsJPNr0",
        "colab": {
          "base_uri": "https://localhost:8080/"
        },
        "outputId": "31e026d9-bdda-4a64-c4c0-d3d9265d1e8f"
      },
      "execution_count": 5,
      "outputs": [
        {
          "output_type": "stream",
          "name": "stdout",
          "text": [
            "Enter the number of categories: 3\n",
            "Enter the blood group category 1: a+\n",
            "Enter the blood group category 2: a+\n",
            "Enter the blood group category 3: b-\n",
            "Encoded Blood Groups: [0, 0, 1]\n",
            "Label Encoding Mapping: {'a+': 0, 'b-': 1}\n"
          ]
        }
      ]
    },
    {
      "cell_type": "code",
      "source": [
        "def one_hot_encode(categories):\n",
        "    unique_categories = list(set(categories))\n",
        "    one_hot_encoded = []\n",
        "\n",
        "    for category in categories:\n",
        "        category_encoding = {cat: 0 for cat in unique_categories}\n",
        "        category_encoding[category] = 1\n",
        "        one_hot_encoded.append(category_encoding)\n",
        "    return one_hot_encoded\n",
        "categories = ['A', 'B', 'AB', 'O', 'O', 'A']\n",
        "one_hot_encoded_categories = one_hot_encode(categories)\n",
        "print(\"One-hot encoded categories:\")\n",
        "for encoded_category in one_hot_encoded_categories:\n",
        "    print(encoded_category)\n"
      ],
      "metadata": {
        "id": "K87Z0VZXVqMh",
        "colab": {
          "base_uri": "https://localhost:8080/"
        },
        "outputId": "194ecbbb-2f98-4c50-babb-a6e3e2cd10c8"
      },
      "execution_count": 6,
      "outputs": [
        {
          "output_type": "stream",
          "name": "stdout",
          "text": [
            "One-hot encoded categories:\n",
            "{'B': 0, 'A': 1, 'O': 0, 'AB': 0}\n",
            "{'B': 1, 'A': 0, 'O': 0, 'AB': 0}\n",
            "{'B': 0, 'A': 0, 'O': 0, 'AB': 1}\n",
            "{'B': 0, 'A': 0, 'O': 1, 'AB': 0}\n",
            "{'B': 0, 'A': 0, 'O': 1, 'AB': 0}\n",
            "{'B': 0, 'A': 1, 'O': 0, 'AB': 0}\n"
          ]
        }
      ]
    }
  ]
}