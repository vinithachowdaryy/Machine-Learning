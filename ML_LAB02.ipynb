{
  "cells": [
    {
      "cell_type": "code",
      "execution_count": 3,
      "metadata": {
        "colab": {
          "base_uri": "https://localhost:8080/"
        },
        "id": "1jprAEFM5cke",
        "outputId": "506ed4ea-21ad-49c2-a7b9-05931e743c89"
      },
      "outputs": [
        {
          "name": "stdout",
          "output_type": "stream",
          "text": [
            "[1, 2, 3]\n",
            "[4, 5, 6]\n",
            "Manhattan distance= 9\n",
            "Euclidean distance= 5.196152422706632\n"
          ]
        }
      ],
      "source": [
        "import math\n",
        "n=int(input(\"Enter the dimensions of the points:\"))#accepting the dimensions as input\n",
        "p1=[]\n",
        "for i in range(0,n):\n",
        "  value=int(input(f\"p1[{i}]\"))\n",
        "  p1.append(value)\n",
        "print(p1)\n",
        "p2=[]\n",
        "for i in range(0,n):\n",
        "  value=int(input(f\"p2[{i}]\"))\n",
        "  p2.append(value)\n",
        "print(p2)\n",
        "\n",
        "# manhattan distance\n",
        "def manhattan(p1,p2):\n",
        "    sum=0\n",
        "    for i in range(0,n):\n",
        "      x=abs(p1[i]-p2[i])\n",
        "      sum=sum+x\n",
        "    return sum\n",
        "\n",
        "#euclidean distance\n",
        "def euclidean(p1,p2):\n",
        "    sum=0\n",
        "    for i in range(0,n):\n",
        "      x=pow((p1[i]-p2[i]),2)\n",
        "      sum=sum+x\n",
        "    euclidean_distance=math.sqrt(sum)\n",
        "    return euclidean_distance\n",
        "print(\"Manhattan distance=\",manhattan(p1,p2))\n",
        "print(\"Euclidean distance=\",euclidean(p1,p2) )\n",
        "\n"
      ]
    },
    {
      "cell_type": "code",
      "execution_count": 15,
      "metadata": {
        "colab": {
          "base_uri": "https://localhost:8080/"
        },
        "id": "zNKQkn_EJ_ox",
        "outputId": "4f0e17c8-66ca-4d43-b81a-d596a7d8dab3"
      },
      "outputs": [
        {
          "name": "stdout",
          "output_type": "stream",
          "text": [
            "Euclidean distance 4.242640687119285\n",
            "distances: [(1.4142135623730951, 'A'), (1.4142135623730951, 'A'), (1.4142135623730951, 'B'), (1.4142135623730951, 'B')]\n",
            "neighbors: [(1.4142135623730951, 'A'), (1.4142135623730951, 'A'), (1.4142135623730951, 'B')]\n",
            "class votes: {'A': 2, 'B': 1}\n",
            "Predicted class: A\n"
          ]
        }
      ],
      "source": [
        "import math\n",
        "# Euclidean distance calculation\n",
        "def euclidean(p1,p2):\n",
        "    n=2\n",
        "    sum=0\n",
        "    for i in range(0,n):\n",
        "      x=pow((p1[i]-p2[i]),2)\n",
        "      sum=sum+x\n",
        "    euclidean_distance=math.sqrt(sum)\n",
        "    return euclidean_distance\n",
        "print(\"Euclidean distance\", euclidean(p1, p2))\n",
        "    \n",
        "    #k nearest neighbors\n",
        "def k_nearest_neighbors(train_data, test_point, k):\n",
        "    distances = []\n",
        "    for data_point in train_data:\n",
        "        # Format the train data point to exclude the class label\n",
        "        data_point_formatted = data_point[:2]\n",
        "        distance = euclidean(data_point_formatted, test_point)\n",
        "        distances.append((distance, data_point[2]))#calculatinf the eucalidean distace between the training data point and testing data point\n",
        "    distances.sort()#sorting the distances in ascending orderr\n",
        "    print(\"distances:\",distances)\n",
        "    neighbors = distances[:k]#taking only the first k distances from the sorted distances\n",
        "    print(\"neighbors:\",neighbors)\n",
        "\n",
        "    class_votes = {}#extracting the class which has the most number of votes\n",
        "    for _, class_label in neighbors:\n",
        "        if class_label in class_votes:\n",
        "            class_votes[class_label] += 1\n",
        "        else:\n",
        "            class_votes[class_label] = 1\n",
        "    print(\"class votes:\",class_votes)\n",
        "    sorted_votes = sorted(class_votes.items(), key=lambda x: x[1], reverse=True)#choosing one class by sorting the class votes in ascending order\n",
        "    return sorted_votes[0][0]\n",
        "#training and testing data\n",
        "train_data = [(-1, -1, 'A'), (1, 1, 'B'), (-1, 1, 'A'), (1, -1, 'B')]\n",
        "test_point = (0, 0)\n",
        "#using the knn model to predict the class of the test point\n",
        "predicted_class = k_nearest_neighbors(train_data, test_point , 3)\n",
        "print(\"Predicted class:\", predicted_class)\n"
      ]
    },
    {
      "cell_type": "code",
      "execution_count": null,
      "metadata": {
        "colab": {
          "base_uri": "https://localhost:8080/"
        },
        "id": "vrTPwRsJPNr0",
        "outputId": "31e026d9-bdda-4a64-c4c0-d3d9265d1e8f"
      },
      "outputs": [
        {
          "name": "stdout",
          "output_type": "stream",
          "text": [
            "Enter the number of categories: 3\n",
            "Enter the blood group category 1: a+\n",
            "Enter the blood group category 2: a+\n",
            "Enter the blood group category 3: b-\n",
            "Encoded Blood Groups: [0, 0, 1]\n",
            "Label Encoding Mapping: {'a+': 0, 'b-': 1}\n"
          ]
        }
      ],
      "source": [
        "n = int(input(\"Enter the number of categories: \"))\n",
        "#creating the list of classes\n",
        "blood_groups = []\n",
        "for i in range(n):\n",
        "    value = input(f\"Enter the blood group category {i+1}: \")\n",
        "    blood_groups.append(value)\n",
        "#label encoding\n",
        "def label_encoding(blood_groups):\n",
        "    label_encoding = {}\n",
        "    encoded_blood_groups = []\n",
        "\n",
        "    for bg in blood_groups:\n",
        "        if bg not in label_encoding:\n",
        "            label_encoding[bg] = len(label_encoding)\n",
        "        encoded_blood_groups.append(label_encoding[bg])\n",
        "    return encoded_blood_groups,label_encoding\n",
        "\n",
        "print(\"Encoded Blood Groups:\", label_encoding(blood_groups)[0])\n",
        "print(\"Label Encoding Mapping:\", label_encoding(blood_groups)[1])\n"
      ]
    },
    {
      "cell_type": "code",
      "execution_count": null,
      "metadata": {
        "colab": {
          "base_uri": "https://localhost:8080/"
        },
        "id": "K87Z0VZXVqMh",
        "outputId": "194ecbbb-2f98-4c50-babb-a6e3e2cd10c8"
      },
      "outputs": [
        {
          "name": "stdout",
          "output_type": "stream",
          "text": [
            "One-hot encoded categories:\n",
            "{'B': 0, 'A': 1, 'O': 0, 'AB': 0}\n",
            "{'B': 1, 'A': 0, 'O': 0, 'AB': 0}\n",
            "{'B': 0, 'A': 0, 'O': 0, 'AB': 1}\n",
            "{'B': 0, 'A': 0, 'O': 1, 'AB': 0}\n",
            "{'B': 0, 'A': 0, 'O': 1, 'AB': 0}\n",
            "{'B': 0, 'A': 1, 'O': 0, 'AB': 0}\n"
          ]
        }
      ],
      "source": [
        "#one hot encoding\n",
        "def one_hot_encode(categories):\n",
        "    unique_categories = list(set(categories))\n",
        "    one_hot_encoded = []\n",
        "\n",
        "    for category in categories:\n",
        "        category_encoding = {cat: 0 for cat in unique_categories}\n",
        "        category_encoding[category] = 1\n",
        "        one_hot_encoded.append(category_encoding)\n",
        "    return one_hot_encoded\n",
        "#defining the categories\n",
        "categories = ['A', 'B', 'AB', 'O', 'O', 'A']\n",
        "one_hot_encoded_categories = one_hot_encode(categories)\n",
        "print(\"One-hot encoded categories:\")\n",
        "for encoded_category in one_hot_encoded_categories:\n",
        "    print(encoded_category)\n"
      ]
    }
  ],
  "metadata": {
    "colab": {
      "provenance": []
    },
    "kernelspec": {
      "display_name": "Python 3",
      "name": "python3"
    },
    "language_info": {
      "codemirror_mode": {
        "name": "ipython",
        "version": 3
      },
      "file_extension": ".py",
      "mimetype": "text/x-python",
      "name": "python",
      "nbconvert_exporter": "python",
      "pygments_lexer": "ipython3",
      "version": "3.10.11"
    }
  },
  "nbformat": 4,
  "nbformat_minor": 0
}
